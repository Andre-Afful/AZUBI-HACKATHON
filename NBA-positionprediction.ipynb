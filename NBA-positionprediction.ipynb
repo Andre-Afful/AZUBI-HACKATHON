{
 "cells": [
  {
   "cell_type": "code",
   "execution_count": 2,
   "metadata": {
    "gather": {
     "logged": 1600223198152
    }
   },
   "outputs": [
    {
     "name": "stdout",
     "output_type": "stream",
     "text": [
      "b'{\"Results\": {\"WebServiceOutput0\": [{\"Player\": \"Greg Smith\", \"PredictedPosition\": \"PF\"}]}}'\n"
     ]
    }
   ],
   "source": [
    "endpoint = 'http://52.168.70.153:80/api/v1/service/nba-positionprediction/score'\n",
    "key = 'V2q20UwVVPABdtxwS8EqXXDs4NmBfroY'\n",
    "\n",
    "import urllib.request\n",
    "import json\n",
    "import os\n",
    "import ssl\n",
    "\n",
    "def allowSelfSignedHttps(allowed):\n",
    "    # bypass the server certificate verification on client side\n",
    "    if allowed and not os.environ.get('PYTHONHTTPSVERIFY', '') and getattr(ssl, '_create_unverified_context', None):\n",
    "        ssl._create_default_https_context = ssl._create_unverified_context\n",
    "\n",
    "allowSelfSignedHttps(True) # this line is needed if you use self-signed certificate in your scoring service.\n",
    "\n",
    "data = {\n",
    "    \"Inputs\": {\n",
    "          \"WebServiceInput0\":\n",
    "          [\n",
    "              {\n",
    "                    'Year': \"2013\",\n",
    "                    'Player': \"Greg Smith\",\n",
    "                    'Age': \"22\",\n",
    "                    'G': \"70\",\n",
    "                    'GS': \"10\",\n",
    "                    'MP': \"1110\",\n",
    "                    'PER': \"0.5221621621621622\",\n",
    "                    'TS%': \"0.636\",\n",
    "                    '3PAr': \"0.004\",\n",
    "                    'FTr': \"0.474\",\n",
    "                    'ORB%': \"11.5\",\n",
    "                    'DRB%': \"21.2\",\n",
    "                    'TRB%': \"16.4\",\n",
    "                    'AST%': \"3.5\",\n",
    "                    'STL%': \"0.8\",\n",
    "                    'BLK%': \"2.7\",\n",
    "                    'TOV%': \"11\",\n",
    "                    'USG%': \"14.7\",\n",
    "                    'OWS': \"0.0908108108108108\",\n",
    "                    'DWS': \"0.03891891891891892\",\n",
    "                    'WS': \"0.12972972972972974\",\n",
    "                    'WS/48': \"0.172\",\n",
    "                    'OBPM': \"-0.012972972972972974\",\n",
    "                    'DBPM': \"-0.0032432432432432435\",\n",
    "                    'BPM': \"-0.016216216216216217\",\n",
    "                    'VORP': \"0.012972972972972974\",\n",
    "                    'FG': \"5.513513513513512\",\n",
    "                    'FGA': \"8.886486486486486\",\n",
    "                    'FG%': \"0.62\",\n",
    "                    '3P': \"0\",\n",
    "                    '3PA': \"0.032432432432432434\",\n",
    "                    '3P%': \"0\",\n",
    "                    '2P': \"5.513513513513512\",\n",
    "                    '2PA': \"8.854054054054053\",\n",
    "                    '2P%': \"0.623\",\n",
    "                    'eFG%': \"0.62\",\n",
    "                    'FT': \"2.627027027027027\",\n",
    "                    'FTA': \"4.216216216216216\",\n",
    "                    'FT%': \"0.623\",\n",
    "                    'ORB': \"3.6\",\n",
    "                    'DRB': \"6.8108108108108105\",\n",
    "                    'TRB': \"10.41081081081081\",\n",
    "                    'AST': \"0.8108108108108109\",\n",
    "                    'STL': \"0.5837837837837838\",\n",
    "                    'BLK': \"1.2972972972972974\",\n",
    "                    'TOV': \"1.3297297297297297\",\n",
    "                    'PF': \"5.6756756756756745\",\n",
    "                    'PTS': \"13.654054054054056\",\n",
    "                    'height': \"196\",\n",
    "                    'weight': \"88\",\n",
    "              },\n",
    "          ],\n",
    "    },\n",
    "    \"GlobalParameters\":  {\n",
    "    }\n",
    "}\n",
    "\n",
    "body = str.encode(json.dumps(data))\n",
    "\n",
    "url = 'http://52.168.70.153:80/api/v1/service/nba-positionprediction/score'\n",
    "api_key = 'V2q20UwVVPABdtxwS8EqXXDs4NmBfroY' # Replace this with the API key for the web service\n",
    "headers = {'Content-Type':'application/json', 'Authorization':('Bearer '+ api_key)}\n",
    "\n",
    "req = urllib.request.Request(url, body, headers)\n",
    "\n",
    "try:\n",
    "    response = urllib.request.urlopen(req)\n",
    "\n",
    "    result = response.read()\n",
    "    print(result)\n",
    "except urllib.error.HTTPError as error:\n",
    "    print(\"The request failed with status code: \" + str(error.code))\n",
    "\n",
    "    # Print the headers - they include the requert ID and the timestamp, which are useful for debugging the failure\n",
    "    print(error.info())\n",
    "    print(json.loads(error.read().decode(\"utf8\", 'ignore')))\n"
   ]
  }
 ],
 "metadata": {
  "kernel_info": {
   "name": "python3-azureml"
  },
  "kernelspec": {
   "display_name": "Python 3.6 - AzureML",
   "language": "python",
   "name": "python3-azureml"
  },
  "language_info": {
   "codemirror_mode": {
    "name": "ipython",
    "version": 3
   },
   "file_extension": ".py",
   "mimetype": "text/x-python",
   "name": "python",
   "nbconvert_exporter": "python",
   "pygments_lexer": "ipython3",
   "version": "3.6.9"
  },
  "nteract": {
   "version": "nteract-front-end@1.0.0"
  }
 },
 "nbformat": 4,
 "nbformat_minor": 2
}
